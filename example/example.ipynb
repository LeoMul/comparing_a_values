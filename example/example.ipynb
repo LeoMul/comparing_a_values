{
 "cells": [
  {
   "cell_type": "code",
   "execution_count": 6,
   "metadata": {},
   "outputs": [],
   "source": [
    "#Hello, Collaborator.\n",
    "#Welcome - to the example on using my a value comparison scripts.\n",
    "\n",
    "#Python package requirements:\n",
    "#Numpy (arrays), SciPy (stats), FortranFormat(for reading and writing), PyAstronomy (air and vac conversion)\n",
    "\n",
    "#You can install these in a conda environment or install them with pip -m install 'whatever'\n",
    "\n",
    "#There are two main classes to consider. \n",
    "\n",
    "#the First is the dataset class, which has the fields: eupper, elower (both should be in cm-1), wavelength (in nm) ,avalue, loggf, j_upper, j_lower.\n",
    "\n",
    "#The fields, avalue,loggf, j_upper,j_lower are optional and are set to empty arrays if you don't specify them.\n",
    "\n",
    "#Suppose I have some custom data set in a file such as nist.dat in this directory.\n",
    "\n"
   ]
  },
  {
   "cell_type": "code",
   "execution_count": 7,
   "metadata": {},
   "outputs": [],
   "source": [
    "#first, import the code, replacing the path with whereever you put it on your computer (realpath ideally.)\n",
    "import sys\n",
    "sys.path.insert(0, '/Users/leomulholland/comparing_a_values')\n",
    "from compare_a_value_sets import * "
   ]
  },
  {
   "cell_type": "code",
   "execution_count": 8,
   "metadata": {},
   "outputs": [
    {
     "name": "stdout",
     "output_type": "stream",
     "text": [
      "reading in Kurucz. Note that Kurucz data has wls in air (nm) and transitions strengths in log gf.\n",
      "converted  1484  wavelengths to vac\n",
      "converting loggf to avalue, assuming wl is in nm and in vac.\n"
     ]
    }
   ],
   "source": [
    "#If your data is in the Kurucz format, as is the file 'gf3801.lines.txt' file in this directory, it can read in with the subroutine read_kurucz\n",
    "\n",
    "#The parameter wavelength_convert is optional, and is set to true by default. \n",
    "#By default, Kurucz data has air values for >200nm, so we convert to vac with the PyAstronomy code.\n",
    "\n",
    "#The paramter calcualte_a_values is optional, and is set to true by default.\n",
    "#By default Kurucz data has loggf, which we convert to avalues with the subroutine in the code, which I encourage you to look at it if you don't believe I have \n",
    "#correctly implemented it.\n",
    "\n",
    "#If you are happy for either of these to be turned on, you can leave either of them out ala:\n",
    "#kurucz_data = read_kurucz('gf3801.lines.txt')\n",
    "\n",
    "#But if for some reason you want either turned off (e.g the loggf.dat from grasp^0 may already be in vaccum, you might turn off the wavelength convert here).\n",
    "#e.g:\n",
    "#kurucz_data = read_kurucz('gf3801.lines.txt',wavelength_convert=False)\n",
    "#with similar syntax if you want to turn the avalues off. e,g calcualte_a_values=False. \n",
    "#You can also set either one to True if you want, but they're true by default.\n",
    "\n",
    "kurucz_data_class = read_kurucz('gf3801.lines.txt')\n"
   ]
  },
  {
   "cell_type": "code",
   "execution_count": 9,
   "metadata": {},
   "outputs": [],
   "source": [
    "#But Leo, what if I have a custom data formatlike the nist.dat file in this directory? In that case you are partially on your own. \n",
    "#I recommend using np.loadtxt.\n",
    "import numpy as np \n",
    "\n",
    "nist_data = np.loadtxt('nist.dat')\n",
    "\n",
    "#extract the data:\n",
    "nist_wavelengths = nist_data[:,0]\n",
    "nist_avalues = nist_data[:,1]\n",
    "nist_lowerE = nist_data[:,3]\n",
    "nist_upperE = nist_data[:,4]\n",
    "\n",
    "#can now make the dataset class:\n",
    "\n",
    "#the j's are only needed for converting loggf to a value. so if you already have the a values they're not necessary.\n",
    "nist_data_class = dataset(eupper_wavenumber=nist_upperE,elower_wavenumber=nist_lowerE,wavelength_nm=nist_wavelengths,avalue=nist_avalues)\n",
    "\n",
    "#if you only have loggf, you might consider doing nist_data_class.calculate_a_values().\n",
    "#this WILL require the j_upper array to be supplied by the user, either in the initialisation in the command above, or with\n",
    "#nist_data_class.j_upper = some_array of the correct size.\n"
   ]
  },
  {
   "cell_type": "code",
   "execution_count": 12,
   "metadata": {},
   "outputs": [
    {
     "name": "stdout",
     "output_type": "stream",
     "text": [
      "there are 33 wavelengths to be compared\n",
      "wavelength  674.0252  not found in compared data set\n",
      "wavelength  687.0066  not found in compared data set\n",
      "total wavelengths not found:  2\n",
      "wavelengths found for comparisons: 31\n"
     ]
    }
   ],
   "source": [
    "#To make the comparison, we use the comparison class. the only input needed are the two read in data classes.\n",
    "\n",
    "#the left hand input is the base, righthand is the compared.\n",
    "nist_kurucz_compared = comparison(nist_data_class,kurucz_data_class)\n",
    "\n",
    "#to perform the search and calculation, use:\n",
    "#where we supply numerical tolerances for matching the wavelengths and wavenumbers.\n",
    "nist_kurucz_compared.calculate_comparison(tolerance_wl=0.01,tolerance_wavenumber=0.5)\n",
    "\n",
    "\n",
    "#the data can be written out using:\n",
    "nist_kurucz_compared.write_out_data_file(filename='example_out',label1='NIS',label2='KUR',ignore_null=False,sort_by_a_value_ratio=False)\n",
    "#where the code cant find a match, it keeps the lefthand-dataset's values, and sets the right-hand set's values to something obvious.\n",
    "\n",
    "#filename = output filename,\n",
    "#label1 and 2 are the labels for the columns of the datafile.\n",
    "#ignore_null, ignores any lack of matches, i.e in the comment 4 lines above.\n",
    "#sort_by_a_value_ratio sorts the data in order of avalue1/avalue2\n",
    "#the latter 2 are optional and are set to false by default.\n"
   ]
  },
  {
   "cell_type": "code",
   "execution_count": 14,
   "metadata": {},
   "outputs": [
    {
     "data": {
      "text/plain": [
       "Text(0, 0.5, 'Kurucz A value')"
      ]
     },
     "execution_count": 14,
     "metadata": {},
     "output_type": "execute_result"
    },
    {
     "data": {
      "image/png": "[encoded data removed]",
      "text/plain": [
       "<Figure size 640x480 with 1 Axes>"
      ]
     },
     "metadata": {},
     "output_type": "display_data"
    }
   ],
   "source": [
    "#where the code CAN find matches, it puts these into the field: class.compared_data, which itself as the fields:\n",
    "\n",
    "#base == first data set\n",
    "#comp == second data set\n",
    "#eu,el == upper lower wavenumbers\n",
    "#a == a values (loggf not yet implemented)\n",
    "\n",
    "#nist_kurucz_compared.compared_data.base_el\n",
    "#nist_kurucz_compared.compared_data.base_eu\n",
    "#nist_kurucz_compared.compared_data.comp_el\n",
    "#nist_kurucz_compared.compared_data.comp_eu\n",
    "#nist_kurucz_compared.compared_data.base_a\n",
    "#nist_kurucz_compared.compared_data.comp_a\n",
    "\n",
    "#the above are just numpy arrays. you can make a plot with something like\n",
    "\n",
    "x = np.logspace(-1,10,10)\n",
    "import matplotlib.pyplot as plt\n",
    "\n",
    "plt.plot(x,x,'-r')\n",
    "plt.loglog(nist_kurucz_compared.compared_data.base_a,nist_kurucz_compared.compared_data.comp_a,'x')\n",
    "\n",
    "plt.xlabel(\"NIST A value\")\n",
    "plt.ylabel(\"Kurucz A value\")\n",
    "\n",
    "#Direct any further questions to Leo Mulholland:\n",
    "#leomulholland@hotmail.com\n",
    "#lmulholland25@qub.ac.uk"
   ]
  },
  {
   "cell_type": "code",
   "execution_count": null,
   "metadata": {},
   "outputs": [],
   "source": []
  }
 ],
 "metadata": {
  "kernelspec": {
   "display_name": "base",
   "language": "python",
   "name": "python3"
  },
  "language_info": {
   "codemirror_mode": {
    "name": "ipython",
    "version": 3
   },
   "file_extension": ".py",
   "mimetype": "text/x-python",
   "name": "python",
   "nbconvert_exporter": "python",
   "pygments_lexer": "ipython3",
   "version": "3.11.5"
  },
  "orig_nbformat": 4
 },
 "nbformat": 4,
 "nbformat_minor": 2
}
